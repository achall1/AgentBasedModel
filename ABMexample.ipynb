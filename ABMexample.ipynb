{
 "cells": [
  {
   "cell_type": "markdown",
   "metadata": {},
   "source": [
    "# Agent-Based Modeling and Simulation (ABMS)\n",
    "\n",
    "In this notebook, we will implement a simple village of warriors who hunt for their tribe and subsequently fight amongst themselves. One could easily extend this to execute more advanced logic, i.e. study, travel, transact with other agents, etc. \n",
    "\n",
    "We use the `mesa` Python library, a third-party capability that allows building ABMS algorithms:"
   ]
  },
  {
   "cell_type": "code",
   "execution_count": 4,
   "metadata": {},
   "outputs": [],
   "source": [
    "%matplotlib inline\n",
    "\n",
    "\n",
    "import numpy as np\n",
    "from mesa import Agent, Model\n",
    "from mesa.time import RandomActivation"
   ]
  },
  {
   "cell_type": "markdown",
   "metadata": {},
   "source": [
    "We now extend the `Agent` class and define a concrete instantiation we will call `Warrior`. Each `Warrior` has an initial `xp` of 1 and a randomly-generated `strength` to represent how strong they are. Each `Agent` instantiation must implement the `step` behavior. This function is logic that is executed for each agent, per iteration. In our case, each step involes the agent hunting and (hopefully) having a successful hunt. If so, their `xp` and `strength` increases accordingly. Regardless, each agent also has a probability of fighting with another agent. The agent with the lower `strength` loses and their `xp` is subsequently reduced."
   ]
  },
  {
   "cell_type": "code",
   "execution_count": 5,
   "metadata": {},
   "outputs": [],
   "source": [
    "class Warrior(Agent):\n",
    "    \"\"\" A warrior is an agent equipped with experience points (XP) and capable\n",
    "    of hunting products provide sustenance for their village.\n",
    "\n",
    "    Args:\n",
    "        key (int): a unique identifier for this agent.\n",
    "        model (Model): the system this agent belongs to.\n",
    "    \"\"\"\n",
    "    def __init__(self, key, model):\n",
    "        super().__init__(key, model)\n",
    "\n",
    "        # agent start with 1 XP and some strength to be their hunting ability\n",
    "        self.id = key\n",
    "        self.xp = 1\n",
    "        self.strength = np.random.randint(1, 10)\n",
    "\n",
    "    def step(self):\n",
    "        \"\"\" Defines what each agent executes per unit of time; inherited\"\"\"\n",
    "\n",
    "        # --- agent is out and hunting ---\n",
    "        # if agent had successful hunt, gain some strength and xp\n",
    "        is_hunt_success = np.random.uniform(0, 1) >= .8\n",
    "        if is_hunt_success:\n",
    "            self.xp += 2.\n",
    "            self.strength += 3\n",
    "\n",
    "        # --- agent back in village, challenges other agent to strength test ---\n",
    "        do_wrestle = np.random.uniform(0, 1) > .85\n",
    "        if do_wrestle:\n",
    "\n",
    "            # winner is that who has the most xp * strength\n",
    "            other = np.random.choice(self.model.schedule.agents)\n",
    "            if self.strength < other.strength:\n",
    "                self.xp -= 2.\n",
    "                other.xp += 1.\n",
    "            else:\n",
    "                other.xp -= 2.\n",
    "                self.xp += 1."
   ]
  },
  {
   "cell_type": "markdown",
   "metadata": {},
   "source": [
    "We need an ecosystem, container, or an environment our `Agent` instances can interact in. In `mesa`, we can extend the `Model` class and add our agents. In our example, we implement a `Village` class where our `Warrior` instances can live within. The `step` behavior within our model triggers each agent to work and comingle within our model."
   ]
  },
  {
   "cell_type": "code",
   "execution_count": 6,
   "metadata": {},
   "outputs": [],
   "source": [
    "class Village(Model):\n",
    "\n",
    "    \"\"\"A model with some number of agents.\n",
    "    \n",
    "    Args:\n",
    "        n (int): number of Warrior instances to create.\n",
    "    \"\"\"\n",
    "    def __init__(self, n):\n",
    "        self.num_agents = n\n",
    "        self.schedule = RandomActivation(self)\n",
    "        \n",
    "        # create our `n` agents and add to our model\n",
    "        for i in range(self.num_agents):\n",
    "            agent = Warrior(i, self)\n",
    "            self.schedule.add(agent)\n",
    "\n",
    "    def step(self):\n",
    "        \"\"\"Akin to one unit of time; inherited from super-class.\"\"\"\n",
    "        self.schedule.step()"
   ]
  },
  {
   "cell_type": "markdown",
   "metadata": {},
   "source": [
    "Now, we run our model and visualize the features of our tribe:"
   ]
  },
  {
   "cell_type": "code",
   "execution_count": 7,
   "metadata": {},
   "outputs": [
    {
     "data": {
      "image/png": "[encoded data removed]",
      "text/plain": [
       "<Figure size 432x288 with 1 Axes>"
      ]
     },
     "metadata": {
      "needs_background": "light"
     },
     "output_type": "display_data"
    }
   ],
   "source": [
    "import matplotlib.pyplot as plt\n",
    "\n",
    "\n",
    "# run the model with many agents\n",
    "model = Village(n=600)\n",
    "for i in range(100):\n",
    "    model.step()\n",
    "\n",
    "# read-out agent data from the model\n",
    "data = np.asarray(list(map(lambda x: (x.xp, x.strength), model.schedule.agents)))\n",
    "\n",
    "# plot the XP (x axis) and strength (y axis)\n",
    "plt.scatter(data[:, 0], data[:, 1])\n",
    "plt.xlabel(\"XP\")\n",
    "plt.ylabel(\"Strength\")\n",
    "plt.show()\n",
    "\n"
   ]
  },
  {
   "cell_type": "code",
   "execution_count": null,
   "metadata": {},
   "outputs": [],
   "source": []
  },
  {
   "cell_type": "code",
   "execution_count": null,
   "metadata": {},
   "outputs": [],
   "source": []
  }
 ],
 "metadata": {
  "kernelspec": {
   "display_name": "Python 3",
   "language": "python",
   "name": "python3"
  },
  "language_info": {
   "codemirror_mode": {
    "name": "ipython",
    "version": 3
   },
   "file_extension": ".py",
   "mimetype": "text/x-python",
   "name": "python",
   "nbconvert_exporter": "python",
   "pygments_lexer": "ipython3",
   "version": "3.8.2"
  }
 },
 "nbformat": 4,
 "nbformat_minor": 2
}
